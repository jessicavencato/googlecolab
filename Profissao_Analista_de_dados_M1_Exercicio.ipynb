{
  "nbformat": 4,
  "nbformat_minor": 0,
  "metadata": {
    "colab": {
      "provenance": [],
      "toc_visible": true
    },
    "kernelspec": {
      "name": "python3",
      "display_name": "Python 3"
    }
  },
  "cells": [
    {
      "cell_type": "code",
      "source": [],
      "metadata": {
        "id": "TbmOLj9l-q3L"
      },
      "execution_count": null,
      "outputs": []
    },
    {
      "cell_type": "markdown",
      "metadata": {
        "id": "KJqp9AANOCtf"
      },
      "source": [
        "<img src=\"https://raw.githubusercontent.com/andre-marcos-perez/ebac-course-utils/main/media/logo/newebac_logo_black_half.png\" alt=\"ebac-logo\">\n",
        "\n",
        "---\n",
        "\n",
        "# **Módulo** | Python: Variáveis & Tipos de Dados\n",
        "Caderno de **Exercícios**<br> \n",
        "Professor [André Perez](https://www.linkedin.com/in/andremarcosperez/)\n",
        "\n",
        "---"
      ]
    },
    {
      "cell_type": "markdown",
      "metadata": {
        "id": "d9jDtUbDOE1-"
      },
      "source": [
        "# **Tópicos**\n",
        "\n",
        "<ol type=\"1\">\n",
        "  <li>Introdução ao Google Colab;</li>\n",
        "  <li>Variáveis;</li>\n",
        "  <li>Números;</li>\n",
        "  <li><i>Strings;</i></li>\n",
        "  <li>Boleanos.</li>\n",
        "</ol>"
      ]
    },
    {
      "cell_type": "markdown",
      "metadata": {
        "id": "SmoHgt-lwkpD"
      },
      "source": [
        "---"
      ]
    },
    {
      "cell_type": "markdown",
      "metadata": {
        "id": "GABI6OW8OfQ2"
      },
      "source": [
        "# **Exercícios**"
      ]
    },
    {
      "cell_type": "markdown",
      "metadata": {
        "id": "muD1vxozykSC"
      },
      "source": [
        "## 1\\. Google Colab"
      ]
    },
    {
      "cell_type": "markdown",
      "metadata": {
        "id": "ahrFfCuBxJKs"
      },
      "source": [
        "Crie uma célula de código que escreva o texto \"Olá mundo!\", utilize o comando `print`."
      ]
    },
    {
      "cell_type": "code",
      "source": [
        "print(\"Olá mundo\")"
      ],
      "metadata": {
        "colab": {
          "base_uri": "https://localhost:8080/"
        },
        "id": "jaK5060C-xQP",
        "outputId": "179120c6-a728-456e-8e8f-ab0305d170de"
      },
      "execution_count": 2,
      "outputs": [
        {
          "output_type": "stream",
          "name": "stdout",
          "text": [
            "Olá mundo\n"
          ]
        }
      ]
    },
    {
      "cell_type": "markdown",
      "metadata": {
        "id": "KI9zQRT2xa7m"
      },
      "source": [
        "Crie uma célua de texto e adicione uma imagem."
      ]
    },
    {
      "cell_type": "markdown",
      "source": [
        "![newebac_logo_black_half.png](data:image/png;base64,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)"
      ],
      "metadata": {
        "id": "EzkSuUDv_E9-"
      }
    },
    {
      "cell_type": "markdown",
      "metadata": {
        "id": "zMN1Q3jdwoJm"
      },
      "source": [
        "---"
      ]
    },
    {
      "cell_type": "markdown",
      "metadata": {
        "id": "tFYOPLS3xiwe"
      },
      "source": [
        "## 2\\. Números"
      ]
    },
    {
      "cell_type": "markdown",
      "metadata": {
        "id": "O2G9gt7tx2c-"
      },
      "source": [
        "Preencha as células de código para preencher os valores de (A), (B) e (C) na tabela de ticket médio abaixo:\n",
        "\n",
        "<br>\n",
        "\n",
        "| Dia   | Valor Total Vendas | Qtd Total Vendas | Ticket Medio |\n",
        "|-------|--------------------|------------------|--------------|\n",
        "| 19/01 | (A)                | 3                | 320.52       |\n",
        "| 20/01 | 834.47             | (B)              | 119.21       |\n",
        "| 23/01 | 15378.12           | 5                | (C)          |"
      ]
    },
    {
      "cell_type": "code",
      "metadata": {
        "id": "nsrKH9EizNRD",
        "colab": {
          "base_uri": "https://localhost:8080/"
        },
        "outputId": "50c24a0f-7ca5-47ac-a752-46a96a99a035"
      },
      "source": [
        "# (A)\n",
        "tkt_19 = 320.52\n",
        "sqv_19 = 3\n",
        "\n",
        "svv_19 = tkt_19 * sqv_19\n",
        "print(svv_19)\n"
      ],
      "execution_count": 3,
      "outputs": [
        {
          "output_type": "stream",
          "name": "stdout",
          "text": [
            "961.56\n"
          ]
        }
      ]
    },
    {
      "cell_type": "code",
      "metadata": {
        "id": "QQ1GBGHJzMmi",
        "colab": {
          "base_uri": "https://localhost:8080/"
        },
        "outputId": "90b30b42-6d81-40de-a94e-011b37b4912f"
      },
      "source": [
        "# (B)\n",
        "svv_20 = 834.47\n",
        "tkt_20 = 119.21\n",
        "\n",
        "sqv_20 = svv_20 / tkt_20\n",
        "print(sqv_20)"
      ],
      "execution_count": 4,
      "outputs": [
        {
          "output_type": "stream",
          "name": "stdout",
          "text": [
            "7.000000000000001\n"
          ]
        }
      ]
    },
    {
      "cell_type": "code",
      "metadata": {
        "id": "W-li0nSMzKNa",
        "colab": {
          "base_uri": "https://localhost:8080/"
        },
        "outputId": "13c95730-ef62-4fe1-f493-9ed58ffda2ab"
      },
      "source": [
        "# (C)\n",
        "svv_23 = 15378.12\n",
        "sqv_23 = 5\n",
        "\n",
        "tkt_23 = svv_23 / sqv_23\n",
        "print(tkt_23)"
      ],
      "execution_count": 5,
      "outputs": [
        {
          "output_type": "stream",
          "name": "stdout",
          "text": [
            "3075.6240000000003\n"
          ]
        }
      ]
    },
    {
      "cell_type": "markdown",
      "metadata": {
        "id": "3eoP-Vj9yzh8"
      },
      "source": [
        "---"
      ]
    },
    {
      "cell_type": "markdown",
      "metadata": {
        "id": "yUJ6kdony6Pr"
      },
      "source": [
        "## 3\\. Strings"
      ]
    },
    {
      "cell_type": "markdown",
      "metadata": {
        "id": "KDuZpg-5zCvO"
      },
      "source": [
        "Aplique três métodos distintos na *string* abaixo, você pode conferir alguns métodos neste [link](https://www.w3schools.com/python/python_ref_string.asp):"
      ]
    },
    {
      "cell_type": "code",
      "metadata": {
        "id": "k9zbyf7BzjKj",
        "colab": {
          "base_uri": "https://localhost:8080/"
        },
        "outputId": "33a04067-0141-4f41-921f-85698f6bb781"
      },
      "source": [
        "cancao = 'Roda mundo, roda gigante, roda moinho, roda pião.'\n",
        "\n",
        "posicao = cancao.find('pião')\n",
        "print(posicao)\n",
        "\n",
        "print(cancao.upper())\n",
        "\n",
        "print(cancao.replace('roda',  ''))"
      ],
      "execution_count": 13,
      "outputs": [
        {
          "output_type": "stream",
          "name": "stdout",
          "text": [
            "44\n",
            "RODA MUNDO, RODA GIGANTE, RODA MOINHO, RODA PIÃO.\n",
            "Roda mundo,  gigante,  moinho,  pião.\n"
          ]
        }
      ]
    },
    {
      "cell_type": "markdown",
      "metadata": {
        "id": "guZMHXVq0FnC"
      },
      "source": [
        "Extraia da string abaixo o valor da taxa **selic** na variável `selic` e o valor do **ano** na variavel `ano`. Imprima os valores na tela."
      ]
    },
    {
      "cell_type": "code",
      "metadata": {
        "id": "cbx_P4IQ0agK",
        "colab": {
          "base_uri": "https://localhost:8080/"
        },
        "outputId": "5ad31fdd-30aa-434c-dc29-cfbf542246f1"
      },
      "source": [
        "noticia = 'Selic vai a 2,75% e supera expectativas; é a primeira alta em 6 anos.'\n",
        "\n",
        "selic = noticia[12:17] \n",
        "print(selic)\n",
        "\n",
        "ano = noticia[62] \n",
        "print(ano)"
      ],
      "execution_count": 17,
      "outputs": [
        {
          "output_type": "stream",
          "name": "stdout",
          "text": [
            "2,75%\n",
            "6\n"
          ]
        }
      ]
    },
    {
      "cell_type": "markdown",
      "metadata": {
        "id": "wWzbu-OC0z3L"
      },
      "source": [
        "---"
      ]
    },
    {
      "cell_type": "markdown",
      "metadata": {
        "id": "no8w_Ati01xP"
      },
      "source": [
        "## 4\\. Booleanos"
      ]
    },
    {
      "cell_type": "markdown",
      "metadata": {
        "id": "D_0tC3SC099N"
      },
      "source": [
        "Utilize a tabela da verdade para responder: qual o valor da variável x?"
      ]
    },
    {
      "cell_type": "markdown",
      "source": [
        "De acordo com a tabela da verdade, quando a é falso e b é verdadeiro, a & b é falso. Portanto, not a & b é verdadeiro."
      ],
      "metadata": {
        "id": "E56fFmQQImXJ"
      }
    },
    {
      "cell_type": "code",
      "metadata": {
        "id": "XwIEbxf91SpU",
        "colab": {
          "base_uri": "https://localhost:8080/"
        },
        "outputId": "39ea63f7-48fb-48d7-b0bc-6c4c081c5abe"
      },
      "source": [
        "a = False\n",
        "b = True\n",
        "\n",
        "x = not a & b\n",
        "\n",
        "\n",
        "print (not a and b)"
      ],
      "execution_count": 23,
      "outputs": [
        {
          "output_type": "stream",
          "name": "stdout",
          "text": [
            "True\n"
          ]
        }
      ]
    }
  ]
}