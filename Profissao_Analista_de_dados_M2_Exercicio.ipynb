{
  "nbformat": 4,
  "nbformat_minor": 0,
  "metadata": {
    "colab": {
      "provenance": []
    },
    "kernelspec": {
      "name": "python3",
      "display_name": "Python 3"
    }
  },
  "cells": [
    {
      "cell_type": "markdown",
      "metadata": {
        "id": "KJqp9AANOCtf"
      },
      "source": [
        "<img src=\"https://raw.githubusercontent.com/andre-marcos-perez/ebac-course-utils/main/media/logo/newebac_logo_black_half.png\" alt=\"ebac-logo\">\n",
        "\n",
        "---\n",
        "\n",
        "# **Módulo** | Python: Estruturas de Dados\n",
        "Caderno de **Exercícios**<br>\n",
        "Professor [André Perez](https://www.linkedin.com/in/andremarcosperez/)\n",
        "\n",
        "---"
      ]
    },
    {
      "cell_type": "markdown",
      "metadata": {
        "id": "d9jDtUbDOE1-"
      },
      "source": [
        "# **Tópicos**\n",
        "\n",
        "<ol type=\"1\">\n",
        "  <li>Listas;</li>\n",
        "  <li>Conjuntos;</li>\n",
        "  <li>Dicionários.</li>\n",
        "</ol>"
      ]
    },
    {
      "cell_type": "markdown",
      "metadata": {
        "id": "SmoHgt-lwkpD"
      },
      "source": [
        "---"
      ]
    },
    {
      "cell_type": "markdown",
      "metadata": {
        "id": "GABI6OW8OfQ2"
      },
      "source": [
        "# **Exercícios**"
      ]
    },
    {
      "cell_type": "markdown",
      "metadata": {
        "id": "muD1vxozykSC"
      },
      "source": [
        "## 1\\. Listas"
      ]
    },
    {
      "cell_type": "markdown",
      "metadata": {
        "id": "ahrFfCuBxJKs"
      },
      "source": [
        "Criei uma lista chamada `filmes` com o nome dos 10 primeiros filmes mais bem avaliados no site no [IMDB](https://www.imdb.com/chart/top/). Imprima o resultado."
      ]
    },
    {
      "cell_type": "code",
      "metadata": {
        "id": "OgL6Hv3bzOHI",
        "colab": {
          "base_uri": "https://localhost:8080/"
        },
        "outputId": "7b8f79c3-7fbd-401b-83dd-6a7259cddc7f"
      },
      "source": [
        "filmes = ['Um Sonho de Liberdade', 'O Poderoso Chefão', 'Batman: O Cavaleiro das Trevas', 'O Poderoso Chefão II', '12 Homens e uma Sentença', 'A Lista de Schindler', 'O Senhor dos Anéis: O Retorno do Rei', 'Pulp Fiction: Tempo de Violência', 'O Senhor dos Anéis: A Sociedade do Anel', 'Três Homens em Conflito' ]\n",
        "print (filmes)\n",
        "\n",
        "filmes.pop(1)\n",
        "print (filmes)\n",
        "\n",
        "filmes.insert(0,'O Poderoso Chefão' )\n",
        "print(filmes)"
      ],
      "execution_count": null,
      "outputs": [
        {
          "output_type": "stream",
          "name": "stdout",
          "text": [
            "['Um Sonho de Liberdade', 'O Poderoso Chefão', 'Batman: O Cavaleiro das Trevas', 'O Poderoso Chefão II', '12 Homens e uma Sentença', 'A Lista de Schindler', 'O Senhor dos Anéis: O Retorno do Rei', 'Pulp Fiction: Tempo de Violência', 'O Senhor dos Anéis: A Sociedade do Anel', 'Três Homens em Conflito']\n",
            "['Um Sonho de Liberdade', 'Batman: O Cavaleiro das Trevas', 'O Poderoso Chefão II', '12 Homens e uma Sentença', 'A Lista de Schindler', 'O Senhor dos Anéis: O Retorno do Rei', 'Pulp Fiction: Tempo de Violência', 'O Senhor dos Anéis: A Sociedade do Anel', 'Três Homens em Conflito']\n",
            "['O Poderoso Chefão', 'Um Sonho de Liberdade', 'Batman: O Cavaleiro das Trevas', 'O Poderoso Chefão II', '12 Homens e uma Sentença', 'A Lista de Schindler', 'O Senhor dos Anéis: O Retorno do Rei', 'Pulp Fiction: Tempo de Violência', 'O Senhor dos Anéis: A Sociedade do Anel', 'Três Homens em Conflito']\n"
          ]
        }
      ]
    },
    {
      "cell_type": "markdown",
      "metadata": {
        "id": "KI9zQRT2xa7m"
      },
      "source": [
        "Simule a movimentação do *ranking*. Utilize os métodos `insert` e `pop` para trocar a posição do primeiro e do segundo filme da lista. Imprima o resultado.\n",
        "\n"
      ]
    },
    {
      "cell_type": "markdown",
      "metadata": {
        "id": "lxa5L6uF0ZJE"
      },
      "source": [
        "## 2\\. Conjuntos"
      ]
    },
    {
      "cell_type": "markdown",
      "metadata": {
        "id": "9JahS2Kj0d5u"
      },
      "source": [
        "Aconteceu um erro no seu *ranking*. Simule a duplicação dos três últimos filmes da lista. Imprima o resultado."
      ]
    },
    {
      "cell_type": "code",
      "source": [
        "filmes = ['Um Sonho de Liberdade', 'O Poderoso Chefão', 'Batman: O Cavaleiro das Trevas', 'O Poderoso Chefão II', '12 Homens e uma Sentença', 'A Lista de Schindler', 'O Senhor dos Anéis: O Retorno do Rei', 'Pulp Fiction: Tempo de Violência', 'O Senhor dos Anéis: A Sociedade do Anel', 'Três Homens em Conflito' ]\n",
        "\n",
        "filmes.append('Três Homens em Conflito')\n",
        "filmes.append('O Senhor dos Anéis: A Sociedade do Anel')\n",
        "filmes.append('Pulp Fiction: Tempo de Violência')\n",
        "print(filmes)"
      ],
      "metadata": {
        "colab": {
          "base_uri": "https://localhost:8080/"
        },
        "id": "L7gjc-HW6vQL",
        "outputId": "0c1532fa-2e41-4a05-9a1c-6b669d6541e4"
      },
      "execution_count": 25,
      "outputs": [
        {
          "output_type": "stream",
          "name": "stdout",
          "text": [
            "['Um Sonho de Liberdade', 'O Poderoso Chefão', 'Batman: O Cavaleiro das Trevas', 'O Poderoso Chefão II', '12 Homens e uma Sentença', 'A Lista de Schindler', 'O Senhor dos Anéis: O Retorno do Rei', 'Pulp Fiction: Tempo de Violência', 'O Senhor dos Anéis: A Sociedade do Anel', 'Três Homens em Conflito', 'Três Homens em Conflito', 'O Senhor dos Anéis: A Sociedade do Anel', 'Pulp Fiction: Tempo de Violência']\n"
          ]
        }
      ]
    },
    {
      "cell_type": "code",
      "source": [
        "filmes_sem_repetidos = list(set(filmes))\n",
        "print(filmes_sem_repetidos)"
      ],
      "metadata": {
        "colab": {
          "base_uri": "https://localhost:8080/"
        },
        "id": "CbMdEBGU69CR",
        "outputId": "89e6e39b-5780-4f89-97ac-9213af4c451d"
      },
      "execution_count": 43,
      "outputs": [
        {
          "output_type": "stream",
          "name": "stdout",
          "text": [
            "['Três Homens em Conflito', 'A Lista de Schindler', 'O Senhor dos Anéis: O Retorno do Rei', 'Pulp Fiction: Tempo de Violência', 'Um Sonho de Liberdade', '12 Homens e uma Sentença', 'O Senhor dos Anéis: A Sociedade do Anel', 'O Poderoso Chefão', 'O Poderoso Chefão II', 'Batman: O Cavaleiro das Trevas']\n"
          ]
        }
      ]
    },
    {
      "cell_type": "code",
      "source": [
        "filmes = {'O Poderoso Chefão', 'Um Sonho de Liberdade', 'Batman: O Cavaleiro das Trevas', 'O Poderoso Chefão II', '12 Homens e uma Sentença', 'A Lista de Schindler', 'O Senhor dos Anéis: O Retorno do Rei', 'Pulp Fiction: Tempo de Violência', 'Pulp Fiction: Tempo de Violência', 'O Senhor dos Anéis: A Sociedade do Anel', 'O Senhor dos Anéis: A Sociedade do Anel', 'Três Homens em Conflito', 'Três Homens em Conflito'}\n",
        "print(list(filmes))"
      ],
      "metadata": {
        "colab": {
          "base_uri": "https://localhost:8080/"
        },
        "id": "fs05VwAZ5zOU",
        "outputId": "162004e6-89b3-4abb-e086-c446b3917ef3"
      },
      "execution_count": null,
      "outputs": [
        {
          "output_type": "stream",
          "name": "stdout",
          "text": [
            "['O Poderoso Chefão II', '12 Homens e uma Sentença', 'O Poderoso Chefão', 'O Senhor dos Anéis: A Sociedade do Anel', 'Três Homens em Conflito', 'Batman: O Cavaleiro das Trevas', 'Pulp Fiction: Tempo de Violência', 'A Lista de Schindler', 'O Senhor dos Anéis: O Retorno do Rei', 'Um Sonho de Liberdade']\n"
          ]
        }
      ]
    },
    {
      "cell_type": "code",
      "source": [
        "filmes = {'O Poderoso Chefão', 'Um Sonho de Liberdade', 'Batman: O Cavaleiro das Trevas', 'O Poderoso Chefão II', '12 Homens e uma Sentença', 'A Lista de Schindler', 'O Senhor dos Anéis: O Retorno do Rei', 'Pulp Fiction: Tempo de Violência', 'Pulp Fiction: Tempo de Violência', 'O Senhor dos Anéis: A Sociedade do Anel', 'O Senhor dos Anéis: A Sociedade do Anel', 'Três Homens em Conflito', 'Três Homens em Conflito'}\n",
        "filmes.remove('Três Homens em Conflito')\n",
        "print(filmes)"
      ],
      "metadata": {
        "colab": {
          "base_uri": "https://localhost:8080/"
        },
        "id": "pA2RxIiS6OHV",
        "outputId": "3402a5df-6674-46de-fa82-24c0ea35898c"
      },
      "execution_count": null,
      "outputs": [
        {
          "output_type": "stream",
          "name": "stdout",
          "text": [
            "{'O Poderoso Chefão II', '12 Homens e uma Sentença', 'O Poderoso Chefão', 'O Senhor dos Anéis: A Sociedade do Anel', 'Batman: O Cavaleiro das Trevas', 'Pulp Fiction: Tempo de Violência', 'A Lista de Schindler', 'O Senhor dos Anéis: O Retorno do Rei', 'Um Sonho de Liberdade'}\n"
          ]
        }
      ]
    },
    {
      "cell_type": "code",
      "source": [
        "filmes.remove('O Senhor dos Anéis: A Sociedade do Anel')\n",
        "print(filmes)"
      ],
      "metadata": {
        "colab": {
          "base_uri": "https://localhost:8080/"
        },
        "id": "V0ZREw_D6ygj",
        "outputId": "9e3bd476-eba5-4361-a8dd-ac2235e9c754"
      },
      "execution_count": null,
      "outputs": [
        {
          "output_type": "stream",
          "name": "stdout",
          "text": [
            "{'O Poderoso Chefão II', '12 Homens e uma Sentença', 'O Poderoso Chefão', 'Batman: O Cavaleiro das Trevas', 'Pulp Fiction: Tempo de Violência', 'A Lista de Schindler', 'O Senhor dos Anéis: O Retorno do Rei', 'Um Sonho de Liberdade'}\n"
          ]
        }
      ]
    },
    {
      "cell_type": "code",
      "source": [
        "filmes.remove('Pulp Fiction: Tempo de Violência')\n",
        "print (filmes)"
      ],
      "metadata": {
        "colab": {
          "base_uri": "https://localhost:8080/"
        },
        "id": "Y56-kCdq7J0L",
        "outputId": "37f5ca7c-6d6f-4f7d-e67d-d26b7dd31152"
      },
      "execution_count": null,
      "outputs": [
        {
          "output_type": "stream",
          "name": "stdout",
          "text": [
            "{'O Poderoso Chefão II', '12 Homens e uma Sentença', 'O Poderoso Chefão', 'Batman: O Cavaleiro das Trevas', 'A Lista de Schindler', 'O Senhor dos Anéis: O Retorno do Rei', 'Um Sonho de Liberdade'}\n"
          ]
        }
      ]
    },
    {
      "cell_type": "markdown",
      "metadata": {
        "id": "EL_FzmxL6rTv"
      },
      "source": [
        "## 3\\. Dicionários"
      ]
    },
    {
      "cell_type": "markdown",
      "metadata": {
        "id": "i8l0gFqRCpfT"
      },
      "source": [
        "Repita os exercícios da parte 1 (listas). Os elementos da lista `filmes` devem ser dicionários no seguinte formato: `{'nome': <nome-do-filme>, 'ano': <ano do filme>, 'sinopse': <sinopse do filme>}`."
      ]
    },
    {
      "cell_type": "code",
      "metadata": {
        "id": "tu6MSFwGDnHv"
      },
      "source": [
        "filme = [\n",
        "    {'Nome': 'Um Sonho de Liberdade',\n",
        "    'Ano': 1994,\n",
        "    'Sinopse': \"Dois homens presos se reúnem ao longo de vários anos, encontrando consolo e eventual redenção através de atos de decência comum.\"\n",
        "},\n",
        "   {\n",
        "    'Nome': 'O Poderoso Chefão',\n",
        "    'Ano': 1972,\n",
        "    'Sinopse': \"O patriarca idoso de uma dinastia do crime organizado transfere o controle de seu império clandestino para seu filho relutante.\"\n",
        "},\n",
        "    {\n",
        "    'Nome': 'Batman: O Cavaleiro das Trevas',\n",
        "    'Ano': 2008,\n",
        "    'Sinopse': \"Quando a ameaça conhecida como O Coringa surge de seu passado, causa estragos e caos nas pessoas de Gotham. O Cavaleiro das Trevas deve aceitar um dos maiores testes para combater a injustiça.\"\n",
        "},\n",
        "    {\n",
        "    'Nome': 'O Poderoso Chefão II',\n",
        "    'Ano': 1974,\n",
        "    'Sinopse': \"Em 1950, Michael Corleone, agora à frente da família, tenta expandir o negócio do crime a Las Vegas, Los Angeles e Cuba. Paralelamente, é revelada a história de Vito Corleone, e de como saiu da Sicília e chegou a Nova Iorque.\"\n",
        "},\n",
        "    {\n",
        "    'Nome': '12 Homens e uma Sentença',\n",
        "    'Ano': 1957,\n",
        "    'Sinopse': \"O julgamento de um assassinato em Nova Iorque é frustrado por um único membro, cujo ceticismo força o júri a considerar cuidadosamente as evidências antes de dar o veredito.\"\n",
        "},\n",
        "    {\n",
        "    'Nome': 'A Lista de Schindler',\n",
        "    'Ano': 1993,\n",
        "    'Sinopse': \"Na Polônia ocupada pelos alemães durante a Segunda Guerra Mundial, o industrial Oskar Schindler começa a ser preocupar com seus trabalhadores judeus depois de testemunhar sua perseguição pelos nazistas.\"\n",
        "},\n",
        "    {\n",
        "    'Nome': 'O Senhor dos Anéis: O Retorno do Rei',\n",
        "    'Ano': 2003,\n",
        "    'Sinopse': \"Gandalf e Aragorn lideram o Mundo dos Homens contra o exército de Sauron para desviar o olhar de Frodo e Sam quando eles se aproximam á Montanha da Perdição com o Um Anel.\"\n",
        "},\n",
        "    {\n",
        "    'Nome': 'Pulp Fiction - Tempo de Violência',\n",
        "    'Ano': 1994,\n",
        "    'Sinopse': \"As vidas de dois assassinos da máfia, um boxeador, um gângster e sua esposa, e um par de bandidos se entrelaçam em quatro histórias de violência e redenção.\"\n",
        "},\n",
        "    {\n",
        "    'Nome': 'O Senhor dos Anéis: A Sociedade do Anel',\n",
        "    'Ano': 2001,\n",
        "    'Sinopse': \"Um manso hobbit do Condado e oito companheiros partem em uma jornada para destruir o poderoso Um Anel e salvar a Terra-média das Trevas.\"\n",
        "},\n",
        "    {\n",
        "    'Nome': 'Três Homens em Conflito',\n",
        "    'Ano': 1996,\n",
        "    'Sinopse': \"Um impostor se junta com dois homens para encontrar fortuna num remoto cemitério.\"}]\n"
      ],
      "execution_count": 42,
      "outputs": []
    }
  ]
}